{
  "nbformat": 4,
  "nbformat_minor": 0,
  "metadata": {
    "colab": {
      "name": "Untitled20.ipynb",
      "version": "0.3.2",
      "provenance": []
    },
    "kernelspec": {
      "name": "python3",
      "display_name": "Python 3"
    }
  },
  "cells": [
    {
      "cell_type": "code",
      "metadata": {
        "id": "JUpwJMdmwO32",
        "colab_type": "code",
        "colab": {}
      },
      "source": [
        "#206. Reverse Linked List\n",
        "\n",
        "class Solution:\n",
        "    def reverseList(self, head: ListNode) -> ListNode:\n",
        "        dummy = ListNode(0)\n",
        "        curr=self.recurr(head,dummy)\n",
        "        return curr.next\n",
        "    \n",
        "    def recurr(self, head1, head2):\n",
        "        if not head1:\n",
        "            return head2\n",
        "        \n",
        "        next_node = head1.next\n",
        "        head1.next = head2.next\n",
        "        head2.next = head1\n",
        "        return self.recurr(next_node,head2)"
      ],
      "execution_count": 0,
      "outputs": []
    },
    {
      "cell_type": "code",
      "metadata": {
        "id": "lfEutMUywajw",
        "colab_type": "code",
        "colab": {}
      },
      "source": [
        "#326. Power of Three\n",
        "class Solution:\n",
        "    def isPowerOfThree(self, n: int) -> bool:\n",
        "        if n <= 0:\n",
        "            return False\n",
        "        elif n==1:\n",
        "            return True\n",
        "        elif n %3 ==0:\n",
        "            return self.isPowerOfThree(n/3)\n",
        "        else :\n",
        "            return False\n",
        "       \n",
        "    "
      ],
      "execution_count": 0,
      "outputs": []
    },
    {
      "cell_type": "code",
      "metadata": {
        "id": "MKqUmHohwaml",
        "colab_type": "code",
        "colab": {}
      },
      "source": [
        "#905. Sort Array By Parity\n",
        "\n",
        "class Solution:\n",
        "    def sortArrayByParity(self, A: List[int]) -> List[int]:\n",
        "        a=[]\n",
        "        \n",
        "        for i in A:\n",
        "            if i % 2 ==0:\n",
        "                a.insert(0,i)\n",
        "            else:\n",
        "                a.append(i)\n",
        "        return a"
      ],
      "execution_count": 0,
      "outputs": []
    },
    {
      "cell_type": "code",
      "metadata": {
        "id": "5lW7CIJ9xEb8",
        "colab_type": "code",
        "colab": {}
      },
      "source": [
        ""
      ],
      "execution_count": 0,
      "outputs": []
    }
  ]
}